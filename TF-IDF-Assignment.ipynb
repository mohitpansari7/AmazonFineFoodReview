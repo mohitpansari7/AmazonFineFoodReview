{
 "cells": [
  {
   "cell_type": "code",
   "execution_count": 22,
   "metadata": {},
   "outputs": [],
   "source": [
    "import numpy as np\n",
    "import math"
   ]
  },
  {
   "cell_type": "code",
   "execution_count": 1,
   "metadata": {},
   "outputs": [],
   "source": [
    "corpus = [\n",
    "     'this is the first document mostly',\n",
    "     'this document is the second document',\n",
    "     'and this is the third one',\n",
    "     'is this the first document here',\n",
    "]"
   ]
  },
  {
   "cell_type": "code",
   "execution_count": 4,
   "metadata": {},
   "outputs": [
    {
     "name": "stdout",
     "output_type": "stream",
     "text": [
      "['this', 'is', 'the', 'first', 'document', 'mostly', 'this', 'document', 'is', 'the', 'second', 'document', 'and', 'this', 'is', 'the', 'third', 'one', 'is', 'this', 'the', 'first', 'document', 'here']\n",
      "['document', 'second', 'here', 'is', 'and', 'this', 'the', 'mostly', 'one', 'third', 'first']\n"
     ]
    }
   ],
   "source": [
    "listOfWords = []\n",
    "\n",
    "for sent in corpus:\n",
    "    tempArr = sent.split(' ')\n",
    "    for word in tempArr:\n",
    "        listOfWords.append(word)\n",
    "\n",
    "listOfWords = set(listOfWords)\n",
    "listOfWords = list(listOfWords)\n",
    "print(listOfWords)"
   ]
  },
  {
   "cell_type": "code",
   "execution_count": 7,
   "metadata": {},
   "outputs": [
    {
     "name": "stdout",
     "output_type": "stream",
     "text": [
      "{'this': 4, 'is': 4, 'the': 4, 'first': 2, 'document': 4, 'mostly': 1, 'second': 1, 'and': 1, 'third': 1, 'one': 1, 'here': 1}\n"
     ]
    }
   ],
   "source": [
    "freqOfWords = {}\n",
    "\n",
    "for sent in corpus:\n",
    "    tempArr = sent.split(' ')\n",
    "    for word in tempArr:\n",
    "        if word in freqOfWords:\n",
    "            freqOfWords[word] += 1\n",
    "        else:\n",
    "            freqOfWords[word] = 1\n",
    "\n",
    "print(freqOfWords)"
   ]
  },
  {
   "cell_type": "code",
   "execution_count": 15,
   "metadata": {},
   "outputs": [],
   "source": [
    "def countNumberOfThisElemInArr(elem, arr):\n",
    "    res = 0\n",
    "    for i in range(0, len(arr)):\n",
    "        if arr[i] == elem:\n",
    "            res += 1\n",
    "    return res"
   ]
  },
  {
   "cell_type": "code",
   "execution_count": 21,
   "metadata": {},
   "outputs": [
    {
     "name": "stdout",
     "output_type": "stream",
     "text": [
      "{'this': 4, 'is': 4, 'the': 4, 'first': 2, 'document': 4, 'mostly': 1, 'second': 1, 'and': 1, 'third': 1, 'one': 1, 'here': 1}\n",
      "{'this': 4, 'is': 4, 'the': 4, 'first': 2, 'document': 3, 'mostly': 1, 'second': 1, 'and': 1, 'third': 1, 'one': 1, 'here': 1}\n"
     ]
    }
   ],
   "source": [
    "idfDenominator = {}\n",
    "\n",
    "print(freqOfWords)\n",
    "\n",
    "for key in freqOfWords:\n",
    "    idfDenominator[key] = 0\n",
    "\n",
    "for sent in corpus:\n",
    "    tempArr = sent.split(' ')\n",
    "    tempArr = set(tempArr)\n",
    "    tempArr = list(tempArr)\n",
    "    for word in tempArr:\n",
    "        idfDenominator[word] += 1\n",
    "\n",
    "print(idfDenominator)\n",
    "\n"
   ]
  },
  {
   "cell_type": "code",
   "execution_count": 24,
   "metadata": {},
   "outputs": [
    {
     "name": "stdout",
     "output_type": "stream",
     "text": [
      "['document', 'second', 'here', 'is', 'and', 'this', 'the', 'mostly', 'one', 'third', 'first']\n",
      "[[0.14121631 0.         0.         0.11552453 0.         0.11552453\n",
      "  0.11552453 0.26823965 0.         0.         0.18310205]\n",
      " [0.28243262 0.26823965 0.         0.11552453 0.         0.11552453\n",
      "  0.11552453 0.         0.         0.         0.        ]\n",
      " [0.         0.         0.         0.11552453 0.26823965 0.11552453\n",
      "  0.11552453 0.         0.26823965 0.26823965 0.        ]\n",
      " [0.14121631 0.         0.26823965 0.11552453 0.         0.11552453\n",
      "  0.11552453 0.         0.         0.         0.18310205]]\n"
     ]
    }
   ],
   "source": [
    "print(listOfWords)\n",
    "termFreq = np.zeros(( len(corpus), len(listOfWords) ))\n",
    "\n",
    "for i in range(0, len(corpus)):\n",
    "    idfNum = len(corpus)\n",
    "    tempArr = corpus[i].split(' ')\n",
    "    tfDenom = len(tempArr)\n",
    "    for j in range(0, len(tempArr)):\n",
    "        num = countNumberOfThisElemInArr(tempArr[j], tempArr)\n",
    "        idfDenom = idfDenominator[tempArr[j]]\n",
    "        termFreq[i][listOfWords.index(tempArr[j])] = num/tfDenom * math.log(idfNum/idfDenom+1)\n",
    "\n",
    "print(termFreq)\n"
   ]
  },
  {
   "cell_type": "markdown",
   "metadata": {},
   "source": [
    "Using Library"
   ]
  },
  {
   "cell_type": "code",
   "execution_count": 29,
   "metadata": {},
   "outputs": [
    {
     "name": "stdout",
     "output_type": "stream",
     "text": [
      "['and', 'document', 'first', 'here', 'is', 'mostly', 'one', 'second', 'the', 'third', 'this']\n"
     ]
    }
   ],
   "source": [
    "from sklearn.feature_extraction.text import TfidfVectorizer\n",
    "from sklearn.feature_extraction.text import TfidfTransformer\n",
    "\n",
    "tfIdfVect = TfidfVectorizer()\n",
    "tfIdfVect.fit(corpus)\n",
    "print(tfIdfVect.get_feature_names()[0:11])"
   ]
  },
  {
   "cell_type": "code",
   "execution_count": 31,
   "metadata": {},
   "outputs": [
    {
     "name": "stdout",
     "output_type": "stream",
     "text": [
      "  (0, 10)\t0.30933161538012166\n",
      "  (0, 8)\t0.30933161538012166\n",
      "  (0, 5)\t0.592769307628588\n",
      "  (0, 4)\t0.30933161538012166\n",
      "  (0, 2)\t0.4673461307572138\n",
      "  (0, 1)\t0.3783569705698032\n",
      "  (1, 10)\t0.281088674033753\n",
      "  (1, 8)\t0.281088674033753\n",
      "  (1, 7)\t0.5386476208856763\n",
      "  (1, 4)\t0.281088674033753\n",
      "  (1, 1)\t0.6876235979836938\n",
      "  (2, 10)\t0.267103787642168\n",
      "  (2, 9)\t0.511848512707169\n",
      "  (2, 8)\t0.267103787642168\n",
      "  (2, 6)\t0.511848512707169\n",
      "  (2, 4)\t0.267103787642168\n",
      "  (2, 0)\t0.511848512707169\n",
      "  (3, 10)\t0.30933161538012166\n",
      "  (3, 8)\t0.30933161538012166\n",
      "  (3, 4)\t0.30933161538012166\n",
      "  (3, 3)\t0.592769307628588\n",
      "  (3, 2)\t0.4673461307572138\n",
      "  (3, 1)\t0.3783569705698032\n",
      "(4, 11)\n",
      "11\n"
     ]
    }
   ],
   "source": [
    "finalTfIdfVect = tfIdfVect.transform(corpus)\n",
    "print(finalTfIdfVect)\n",
    "print(finalTfIdfVect.get_shape())\n",
    "print(finalTfIdfVect.get_shape()[1])"
   ]
  },
  {
   "cell_type": "code",
   "execution_count": null,
   "metadata": {},
   "outputs": [],
   "source": []
  }
 ],
 "metadata": {
  "kernelspec": {
   "display_name": "Python 3.9.7 ('base')",
   "language": "python",
   "name": "python3"
  },
  "language_info": {
   "codemirror_mode": {
    "name": "ipython",
    "version": 3
   },
   "file_extension": ".py",
   "mimetype": "text/x-python",
   "name": "python",
   "nbconvert_exporter": "python",
   "pygments_lexer": "ipython3",
   "version": "3.9.7"
  },
  "orig_nbformat": 4,
  "vscode": {
   "interpreter": {
    "hash": "7679c2132d3f6ce38c9df14d554b39c06862b36a4e6689c81f9ae15bd0911d7d"
   }
  }
 },
 "nbformat": 4,
 "nbformat_minor": 2
}
